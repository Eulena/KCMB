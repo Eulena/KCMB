{
 "cells": [
  {
   "cell_type": "code",
   "execution_count": 24,
   "metadata": {},
   "outputs": [],
   "source": [
    "# import dependencies\n",
    "from config import (gkey)\n",
    "import gmaps\n",
    "import gmaps.datasets\n",
    "from ipywidgets.embed import embed_minimal_html\n",
    "import numpy as np\n",
    "import pandas as pd\n",
    "import requests\n",
    "import time\n",
    "\n",
    "# Google API Key\n",
    "from config import gkey"
   ]
  },
  {
   "cell_type": "code",
   "execution_count": 25,
   "metadata": {},
   "outputs": [],
   "source": [
    "# Target city\n",
    "target_city = \"Washington, DC\"\n",
    "\n",
    "# Build the endpoint URL\n",
    "target_url = ('https://maps.googleapis.com/maps/api/geocode/json?'\n",
    "    'address={0}&key={1}').format(target_city, gkey)"
   ]
  },
  {
   "cell_type": "code",
   "execution_count": 26,
   "metadata": {},
   "outputs": [
    {
     "name": "stdout",
     "output_type": "stream",
     "text": [
      "204286\n"
     ]
    }
   ],
   "source": [
    "# import Crash DC csv\n",
    "crashes_df = pd.read_csv(\"Resources/Crashes_in_DC.csv\", dtype=\"object\", encoding=\"utf-8\")\n",
    "# crashes_df.head()\n",
    "print(len(crashes_df))\n",
    "# crashes_df.columns"
   ]
  },
  {
   "cell_type": "code",
   "execution_count": 27,
   "metadata": {
    "scrolled": true
   },
   "outputs": [
    {
     "name": "stdout",
     "output_type": "stream",
     "text": [
      "204286\n"
     ]
    }
   ],
   "source": [
    "reduced_df = crashes_df[['LATITUDE', 'LONGITUDE', 'WARD', 'MAJORINJURIES_BICYCLIST', 'FATAL_BICYCLIST', 'MAJORINJURIES_DRIVER',\n",
    "       'MINORINJURIES_DRIVER', 'UNKNOWNINJURIES_DRIVER', 'FATAL_DRIVER',\n",
    "       'MAJORINJURIES_PEDESTRIAN', 'MINORINJURIES_PEDESTRIAN',\n",
    "       'UNKNOWNINJURIES_PEDESTRIAN', 'FATAL_PEDESTRIAN', 'TOTAL_VEHICLES',\n",
    "       'TOTAL_BICYCLES', 'TOTAL_PEDESTRIANS']]\n",
    "print(len(reduced_df))\n",
    "# reduced_df.head()"
   ]
  },
  {
   "cell_type": "code",
   "execution_count": 28,
   "metadata": {},
   "outputs": [
    {
     "name": "stdout",
     "output_type": "stream",
     "text": [
      "204265\n"
     ]
    },
    {
     "data": {
      "text/html": [
       "<div>\n",
       "<style scoped>\n",
       "    .dataframe tbody tr th:only-of-type {\n",
       "        vertical-align: middle;\n",
       "    }\n",
       "\n",
       "    .dataframe tbody tr th {\n",
       "        vertical-align: top;\n",
       "    }\n",
       "\n",
       "    .dataframe thead th {\n",
       "        text-align: right;\n",
       "    }\n",
       "</style>\n",
       "<table border=\"1\" class=\"dataframe\">\n",
       "  <thead>\n",
       "    <tr style=\"text-align: right;\">\n",
       "      <th></th>\n",
       "      <th>LATITUDE</th>\n",
       "      <th>LONGITUDE</th>\n",
       "      <th>WARD</th>\n",
       "      <th>MAJORINJURIES_BICYCLIST</th>\n",
       "      <th>FATAL_BICYCLIST</th>\n",
       "      <th>MAJORINJURIES_DRIVER</th>\n",
       "      <th>MINORINJURIES_DRIVER</th>\n",
       "      <th>UNKNOWNINJURIES_DRIVER</th>\n",
       "      <th>FATAL_DRIVER</th>\n",
       "      <th>MAJORINJURIES_PEDESTRIAN</th>\n",
       "      <th>MINORINJURIES_PEDESTRIAN</th>\n",
       "      <th>UNKNOWNINJURIES_PEDESTRIAN</th>\n",
       "      <th>FATAL_PEDESTRIAN</th>\n",
       "      <th>TOTAL_VEHICLES</th>\n",
       "      <th>TOTAL_BICYCLES</th>\n",
       "      <th>TOTAL_PEDESTRIANS</th>\n",
       "    </tr>\n",
       "  </thead>\n",
       "  <tbody>\n",
       "    <tr>\n",
       "      <th>0</th>\n",
       "      <td>38.894737</td>\n",
       "      <td>-77.027054</td>\n",
       "      <td>Ward 2</td>\n",
       "      <td>0</td>\n",
       "      <td>0</td>\n",
       "      <td>0</td>\n",
       "      <td>0</td>\n",
       "      <td>0</td>\n",
       "      <td>0</td>\n",
       "      <td>0</td>\n",
       "      <td>1</td>\n",
       "      <td>0</td>\n",
       "      <td>0</td>\n",
       "      <td>1</td>\n",
       "      <td>0</td>\n",
       "      <td>1</td>\n",
       "    </tr>\n",
       "    <tr>\n",
       "      <th>1</th>\n",
       "      <td>38.945662</td>\n",
       "      <td>-77.031464</td>\n",
       "      <td>Ward 4</td>\n",
       "      <td>0</td>\n",
       "      <td>0</td>\n",
       "      <td>1</td>\n",
       "      <td>0</td>\n",
       "      <td>0</td>\n",
       "      <td>0</td>\n",
       "      <td>0</td>\n",
       "      <td>0</td>\n",
       "      <td>0</td>\n",
       "      <td>0</td>\n",
       "      <td>2</td>\n",
       "      <td>0</td>\n",
       "      <td>0</td>\n",
       "    </tr>\n",
       "    <tr>\n",
       "      <th>2</th>\n",
       "      <td>38.895591</td>\n",
       "      <td>-76.939477</td>\n",
       "      <td>Ward 7</td>\n",
       "      <td>0</td>\n",
       "      <td>0</td>\n",
       "      <td>0</td>\n",
       "      <td>2</td>\n",
       "      <td>0</td>\n",
       "      <td>0</td>\n",
       "      <td>0</td>\n",
       "      <td>0</td>\n",
       "      <td>0</td>\n",
       "      <td>0</td>\n",
       "      <td>2</td>\n",
       "      <td>0</td>\n",
       "      <td>0</td>\n",
       "    </tr>\n",
       "    <tr>\n",
       "      <th>3</th>\n",
       "      <td>38.905664</td>\n",
       "      <td>-77.041125</td>\n",
       "      <td>Ward 2</td>\n",
       "      <td>0</td>\n",
       "      <td>0</td>\n",
       "      <td>0</td>\n",
       "      <td>1</td>\n",
       "      <td>0</td>\n",
       "      <td>0</td>\n",
       "      <td>0</td>\n",
       "      <td>0</td>\n",
       "      <td>0</td>\n",
       "      <td>0</td>\n",
       "      <td>2</td>\n",
       "      <td>0</td>\n",
       "      <td>0</td>\n",
       "    </tr>\n",
       "    <tr>\n",
       "      <th>4</th>\n",
       "      <td>38.956366</td>\n",
       "      <td>-77.083862</td>\n",
       "      <td>Ward 3</td>\n",
       "      <td>0</td>\n",
       "      <td>0</td>\n",
       "      <td>0</td>\n",
       "      <td>0</td>\n",
       "      <td>0</td>\n",
       "      <td>0</td>\n",
       "      <td>0</td>\n",
       "      <td>0</td>\n",
       "      <td>0</td>\n",
       "      <td>0</td>\n",
       "      <td>2</td>\n",
       "      <td>0</td>\n",
       "      <td>0</td>\n",
       "    </tr>\n",
       "  </tbody>\n",
       "</table>\n",
       "</div>"
      ],
      "text/plain": [
       "    LATITUDE   LONGITUDE    WARD MAJORINJURIES_BICYCLIST FATAL_BICYCLIST  \\\n",
       "0  38.894737  -77.027054  Ward 2                       0               0   \n",
       "1  38.945662  -77.031464  Ward 4                       0               0   \n",
       "2  38.895591  -76.939477  Ward 7                       0               0   \n",
       "3  38.905664  -77.041125  Ward 2                       0               0   \n",
       "4  38.956366  -77.083862  Ward 3                       0               0   \n",
       "\n",
       "  MAJORINJURIES_DRIVER MINORINJURIES_DRIVER UNKNOWNINJURIES_DRIVER  \\\n",
       "0                    0                    0                      0   \n",
       "1                    1                    0                      0   \n",
       "2                    0                    2                      0   \n",
       "3                    0                    1                      0   \n",
       "4                    0                    0                      0   \n",
       "\n",
       "  FATAL_DRIVER MAJORINJURIES_PEDESTRIAN MINORINJURIES_PEDESTRIAN  \\\n",
       "0            0                        0                        1   \n",
       "1            0                        0                        0   \n",
       "2            0                        0                        0   \n",
       "3            0                        0                        0   \n",
       "4            0                        0                        0   \n",
       "\n",
       "  UNKNOWNINJURIES_PEDESTRIAN FATAL_PEDESTRIAN TOTAL_VEHICLES TOTAL_BICYCLES  \\\n",
       "0                          0                0              1              0   \n",
       "1                          0                0              2              0   \n",
       "2                          0                0              2              0   \n",
       "3                          0                0              2              0   \n",
       "4                          0                0              2              0   \n",
       "\n",
       "  TOTAL_PEDESTRIANS  \n",
       "0                 1  \n",
       "1                 0  \n",
       "2                 0  \n",
       "3                 0  \n",
       "4                 0  "
      ]
     },
     "execution_count": 28,
     "metadata": {},
     "output_type": "execute_result"
    }
   ],
   "source": [
    "clean_df = reduced_df.dropna()\n",
    "print(len(clean_df))\n",
    "clean_df.head()"
   ]
  },
  {
   "cell_type": "markdown",
   "metadata": {},
   "source": [
    "## Separate data into types of injuries to plot.\n",
    "### Pedestrian Injuries"
   ]
  },
  {
   "cell_type": "code",
   "execution_count": 29,
   "metadata": {},
   "outputs": [
    {
     "name": "stdout",
     "output_type": "stream",
     "text": [
      "609\n",
      "304\n"
     ]
    }
   ],
   "source": [
    "major_ped_df = clean_df[clean_df[\"MAJORINJURIES_PEDESTRIAN\"] > \"0\"]\n",
    "print(len(major_ped_df))\n",
    "\n",
    "major_ped_loc = major_ped_df[[\"LATITUDE\", \"LONGITUDE\"]].astype(float)\n",
    "n = int(len(major_ped_loc)*.5)\n",
    "print(n)\n",
    "\n",
    "sample_major = major_ped_loc.sample(n=n, random_state=1)"
   ]
  },
  {
   "cell_type": "code",
   "execution_count": 30,
   "metadata": {},
   "outputs": [
    {
     "name": "stdout",
     "output_type": "stream",
     "text": [
      "3010\n",
      "1505\n"
     ]
    }
   ],
   "source": [
    "minor_ped_df = clean_df[clean_df[\"MINORINJURIES_PEDESTRIAN\"] > \"0\"]\n",
    "print(len(minor_ped_df))\n",
    "\n",
    "minor_ped_loc = minor_ped_df[[\"LATITUDE\", \"LONGITUDE\"]].astype(float)\n",
    "n = int(len(minor_ped_loc)*.5)\n",
    "print(n)\n",
    "\n",
    "sample_minor = minor_ped_loc.sample(n=n, random_state=1)"
   ]
  },
  {
   "cell_type": "code",
   "execution_count": 31,
   "metadata": {},
   "outputs": [
    {
     "name": "stdout",
     "output_type": "stream",
     "text": [
      "47\n",
      "23\n"
     ]
    }
   ],
   "source": [
    "unknown_ped_df = clean_df[clean_df[\"UNKNOWNINJURIES_PEDESTRIAN\"] > \"0\"]\n",
    "print(len(unknown_ped_df))\n",
    "\n",
    "unknown_ped_loc = unknown_ped_df[[\"LATITUDE\", \"LONGITUDE\"]].astype(float)\n",
    "n = int(len(unknown_ped_loc)*.5)\n",
    "print(n)\n",
    "\n",
    "sample_unknown = unknown_ped_loc.sample(n=n, random_state=1)"
   ]
  },
  {
   "cell_type": "code",
   "execution_count": 32,
   "metadata": {},
   "outputs": [
    {
     "name": "stdout",
     "output_type": "stream",
     "text": [
      "20\n",
      "10\n"
     ]
    }
   ],
   "source": [
    "fatal_ped_df = clean_df[clean_df[\"FATAL_PEDESTRIAN\"] > \"0\"]\n",
    "print(len(fatal_ped_df))\n",
    "\n",
    "fatal_ped_loc = fatal_ped_df[[\"LATITUDE\", \"LONGITUDE\"]].astype(float)\n",
    "n = int(len(fatal_ped_loc)*.5)\n",
    "print(n)\n",
    "\n",
    "sample_fatal = fatal_ped_loc.sample(n=n, random_state=1)"
   ]
  },
  {
   "cell_type": "markdown",
   "metadata": {},
   "source": [
    "## Map results"
   ]
  },
  {
   "cell_type": "markdown",
   "metadata": {},
   "source": [
    "### Pedestrian Injuries Map"
   ]
  },
  {
   "cell_type": "code",
   "execution_count": 33,
   "metadata": {},
   "outputs": [],
   "source": [
    "gmaps.configure(api_key=gkey)"
   ]
  },
  {
   "cell_type": "code",
   "execution_count": 37,
   "metadata": {},
   "outputs": [],
   "source": [
    "# color codes\n",
    "major_color = '#ab47bc' # purple\n",
    "minor_color = '#26a69a' # teal\n",
    "fatal_color = '#dd2c00' # red"
   ]
  },
  {
   "cell_type": "code",
   "execution_count": 38,
   "metadata": {},
   "outputs": [
    {
     "data": {
      "application/vnd.jupyter.widget-view+json": {
       "model_id": "cf2cff61140f4fd5a80fc9c7bb449463",
       "version_major": 2,
       "version_minor": 0
      },
      "text/plain": [
       "Figure(layout=FigureLayout(height='420px'))"
      ]
     },
     "metadata": {},
     "output_type": "display_data"
    }
   ],
   "source": [
    "fig = gmaps.figure()\n",
    "\n",
    "major_marker = gmaps.symbol_layer(\n",
    "    sample_major, fill_color= major_color, \n",
    "    stroke_color=None, stroke_opacity=0, scale=4)\n",
    "\n",
    "minor_marker = gmaps.symbol_layer(\n",
    "    sample_minor, fill_color= minor_color, \n",
    "    stroke_color=None, stroke_opacity=0, scale=4)\n",
    "\n",
    "fatal_marker = gmaps.symbol_layer(\n",
    "    sample_fatal, fill_color=fatal_color, \n",
    "    stroke_color=None, stroke_opacity=0, scale=4)\n",
    "\n",
    "fig.add_layer(major_marker)\n",
    "fig.add_layer(minor_marker)\n",
    "fig.add_layer(fatal_marker)\n",
    "\n",
    "embed_minimal_html('ped_injuries.html', views=[fig])\n",
    "fig"
   ]
  },
  {
   "cell_type": "code",
   "execution_count": null,
   "metadata": {},
   "outputs": [],
   "source": []
  }
 ],
 "metadata": {
  "kernelspec": {
   "display_name": "Python 3",
   "language": "python",
   "name": "python3"
  },
  "language_info": {
   "codemirror_mode": {
    "name": "ipython",
    "version": 3
   },
   "file_extension": ".py",
   "mimetype": "text/x-python",
   "name": "python",
   "nbconvert_exporter": "python",
   "pygments_lexer": "ipython3",
   "version": "3.6.7"
  }
 },
 "nbformat": 4,
 "nbformat_minor": 2
}
