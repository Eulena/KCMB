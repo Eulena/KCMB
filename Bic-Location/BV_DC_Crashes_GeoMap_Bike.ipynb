{
 "cells": [
  {
   "cell_type": "code",
   "execution_count": 1,
   "metadata": {},
   "outputs": [],
   "source": [
    "# import dependencies\n",
    "from config import (gkey)\n",
    "import gmaps\n",
    "import gmaps.datasets\n",
    "import gmaps.geojson_geometries\n",
    "from ipywidgets.embed import embed_minimal_html\n",
    "import numpy as np\n",
    "import pandas as pd\n",
    "import requests\n",
    "import time\n",
    "\n",
    "# Google API Key\n",
    "from config import gkey\n"
   ]
  },
  {
   "cell_type": "code",
   "execution_count": 3,
   "metadata": {},
   "outputs": [],
   "source": [
    "# Target city\n",
    "target_city = \"Washington, DC\"\n",
    "\n",
    "# Build the endpoint URL\n",
    "target_url = ('https://maps.googleapis.com/maps/api/geocode/json?'\n",
    "    'address={0}&key={1}').format(target_city, gkey)"
   ]
  },
  {
   "cell_type": "code",
   "execution_count": 4,
   "metadata": {},
   "outputs": [
    {
     "name": "stdout",
     "output_type": "stream",
     "text": [
      "204286\n"
     ]
    }
   ],
   "source": [
    "# import Crash DC csv\n",
    "crashes_df = pd.read_csv(\"Resources/Crashes_in_DC.csv\", dtype=\"object\", encoding=\"utf-8\")\n",
    "# crashes_df.head()\n",
    "print(len(crashes_df))\n",
    "# crashes_df.columns"
   ]
  },
  {
   "cell_type": "code",
   "execution_count": 5,
   "metadata": {
    "scrolled": true
   },
   "outputs": [
    {
     "name": "stdout",
     "output_type": "stream",
     "text": [
      "204286\n"
     ]
    }
   ],
   "source": [
    "reduced_df = crashes_df[['LATITUDE', 'LONGITUDE', 'WARD', 'MAJORINJURIES_BICYCLIST', 'FATAL_BICYCLIST', 'MAJORINJURIES_DRIVER',\n",
    "       'MINORINJURIES_DRIVER', 'UNKNOWNINJURIES_DRIVER', 'FATAL_DRIVER',\n",
    "       'MAJORINJURIES_PEDESTRIAN', 'MINORINJURIES_PEDESTRIAN',\n",
    "       'UNKNOWNINJURIES_PEDESTRIAN', 'FATAL_PEDESTRIAN', 'TOTAL_VEHICLES',\n",
    "       'TOTAL_BICYCLES', 'TOTAL_PEDESTRIANS']]\n",
    "print(len(reduced_df))\n",
    "# reduced_df.head()"
   ]
  },
  {
   "cell_type": "code",
   "execution_count": 6,
   "metadata": {},
   "outputs": [
    {
     "name": "stdout",
     "output_type": "stream",
     "text": [
      "204265\n"
     ]
    }
   ],
   "source": [
    "clean_df = reduced_df.dropna()\n",
    "print(len(clean_df))\n",
    "# clean_df.head()"
   ]
  },
  {
   "cell_type": "markdown",
   "metadata": {},
   "source": [
    "## Separate data into types of injuries to plot.\n",
    "### Bicycle Injuries"
   ]
  },
  {
   "cell_type": "code",
   "execution_count": 7,
   "metadata": {},
   "outputs": [
    {
     "name": "stdout",
     "output_type": "stream",
     "text": [
      "264\n"
     ]
    },
    {
     "data": {
      "text/plain": [
       "10"
      ]
     },
     "execution_count": 7,
     "metadata": {},
     "output_type": "execute_result"
    }
   ],
   "source": [
    "major_bike_df = clean_df[clean_df[\"MAJORINJURIES_BICYCLIST\"] > \"0\"]\n",
    "print(len(major_bike_df))\n",
    "# major_bike_df.head()\n",
    "\n",
    "fatal_bike_df = clean_df[clean_df[\"FATAL_BICYCLIST\"] > \"0\"]\n",
    "len(fatal_bike_df)"
   ]
  },
  {
   "cell_type": "markdown",
   "metadata": {},
   "source": [
    "## Map results"
   ]
  },
  {
   "cell_type": "code",
   "execution_count": 12,
   "metadata": {},
   "outputs": [],
   "source": [
    "gmaps.configure(api_key=gkey)"
   ]
  },
  {
   "cell_type": "code",
   "execution_count": null,
   "metadata": {},
   "outputs": [],
   "source": [
    "# color codes\n",
    "major_color = '#ab47bc' # purple\n",
    "minor_color = '#26a69a' # teal\n",
    "fatal_color = '#dd2c00' # red"
   ]
  },
  {
   "cell_type": "markdown",
   "metadata": {},
   "source": [
    "## Bicycle Injury Map"
   ]
  },
  {
   "cell_type": "code",
   "execution_count": 16,
   "metadata": {},
   "outputs": [
    {
     "data": {
      "application/vnd.jupyter.widget-view+json": {
       "model_id": "07ab9433403340ddb5ccc3bd697d4421",
       "version_major": 2,
       "version_minor": 0
      },
      "text/plain": [
       "Figure(layout=FigureLayout(height='420px'))"
      ]
     },
     "metadata": {},
     "output_type": "display_data"
    }
   ],
   "source": [
    "major_bike_loc = major_bike_df[[\"LATITUDE\", \"LONGITUDE\"]].astype(float)\n",
    "fatal_bike_loc = fatal_bike_df[[\"LATITUDE\", \"LONGITUDE\"]].astype(float)\n",
    "\n",
    "fig = gmaps.figure()\n",
    "\n",
    "major_marker = gmaps.symbol_layer(\n",
    "    major_bike_loc, fill_color= major_color, \n",
    "    stroke_color=None, stroke_opacity=0, scale=4)\n",
    "\n",
    "fatal_marker = gmaps.symbol_layer(\n",
    "    fatal_bike_loc, fill_color= fatal_color, \n",
    "    stroke_color=None, stroke_opacity=0, scale=4)\n",
    "\n",
    "fig.add_layer(major_marker)\n",
    "fig.add_layer(fatal_marker)\n",
    "\n",
    "embed_minimal_html('bike_injuries.html', views=[fig])\n",
    "fig\n",
    "\n"
   ]
  },
  {
   "cell_type": "code",
   "execution_count": null,
   "metadata": {},
   "outputs": [],
   "source": []
  }
 ],
 "metadata": {
  "kernelspec": {
   "display_name": "Python 3",
   "language": "python",
   "name": "python3"
  },
  "language_info": {
   "codemirror_mode": {
    "name": "ipython",
    "version": 3
   },
   "file_extension": ".py",
   "mimetype": "text/x-python",
   "name": "python",
   "nbconvert_exporter": "python",
   "pygments_lexer": "ipython3",
   "version": "3.6.7"
  }
 },
 "nbformat": 4,
 "nbformat_minor": 2
}
